{
 "cells": [
  {
   "cell_type": "code",
   "execution_count": 155,
   "metadata": {},
   "outputs": [],
   "source": [
    "import os\n",
    "import numpy as np\n",
    "import pandas as pd\n",
    "from PIL import Image\n",
    "import cv2"
   ]
  },
  {
   "cell_type": "code",
   "execution_count": 156,
   "metadata": {},
   "outputs": [],
   "source": [
    "images_folder_path = 'train_splitted/images/'\n",
    "masks_folder_path = 'train_splitted/masks/'"
   ]
  },
  {
   "cell_type": "code",
   "execution_count": 157,
   "metadata": {},
   "outputs": [],
   "source": [
    "def init_folder(path: str):\n",
    "  if not os.path.exists(path):\n",
    "      os.makedirs(path)\n",
    "\n",
    "\n",
    "# init folders for images and masks if does not exist\n",
    "init_folder(images_folder_path)\n",
    "init_folder(masks_folder_path)"
   ]
  },
  {
   "cell_type": "markdown",
   "metadata": {},
   "source": [
    "Методы обработки названий изображений"
   ]
  },
  {
   "cell_type": "code",
   "execution_count": 158,
   "metadata": {},
   "outputs": [],
   "source": [
    "def add_lead_zeros(_id: int):\n",
    "  if 0 <= _id <= 9:\n",
    "    return '00' + str(_id)\n",
    "  elif 10 <= _id <= 99:\n",
    "    return '0' + str(_id)\n",
    "  else:\n",
    "    return str(_id)\n",
    "\n",
    "def image_name(_id: int):\n",
    "  return f'train_image_{add_lead_zeros(_id)}.png'\n",
    "\n",
    "def mask_name(_id: int):\n",
    "  return f'train_mask_{add_lead_zeros(_id)}.png'\n",
    "\n",
    "def image_path(_id: int):\n",
    "  return './train/train/images/' + image_name(_id)\n",
    "\n",
    "def mask_path(_id: int):\n",
    "  return f'./train/train/masks/' + mask_name(_id)\n"
   ]
  },
  {
   "cell_type": "code",
   "execution_count": 1,
   "metadata": {},
   "outputs": [
    {
     "name": "stdout",
     "output_type": "stream",
     "text": [
      "Defaulting to user installation because normal site-packages is not writeable\n",
      "Collecting albumentations\n",
      "  Downloading albumentations-1.3.1-py3-none-any.whl.metadata (34 kB)\n",
      "Requirement already satisfied: numpy>=1.11.1 in /home/denis/.local/lib/python3.10/site-packages (from albumentations) (1.24.1)\n",
      "Requirement already satisfied: scipy>=1.1.0 in /home/denis/.local/lib/python3.10/site-packages (from albumentations) (1.11.3)\n",
      "Requirement already satisfied: scikit-image>=0.16.1 in /home/denis/.local/lib/python3.10/site-packages (from albumentations) (0.22.0)\n",
      "Requirement already satisfied: PyYAML in /usr/lib/python3/dist-packages (from albumentations) (5.4.1)\n",
      "Collecting qudida>=0.0.4 (from albumentations)\n",
      "  Downloading qudida-0.0.4-py3-none-any.whl (3.5 kB)\n",
      "Collecting opencv-python-headless>=4.1.1 (from albumentations)\n",
      "  Downloading opencv_python_headless-4.8.1.78-cp37-abi3-manylinux_2_17_x86_64.manylinux2014_x86_64.whl.metadata (19 kB)\n",
      "Requirement already satisfied: scikit-learn>=0.19.1 in /home/denis/.local/lib/python3.10/site-packages (from qudida>=0.0.4->albumentations) (1.3.2)\n",
      "Requirement already satisfied: typing-extensions in /home/denis/.local/lib/python3.10/site-packages (from qudida>=0.0.4->albumentations) (4.8.0)\n",
      "Collecting networkx>=2.8 (from scikit-image>=0.16.1->albumentations)\n",
      "  Downloading networkx-3.2.1-py3-none-any.whl.metadata (5.2 kB)\n",
      "Requirement already satisfied: pillow>=9.0.1 in /usr/lib/python3/dist-packages (from scikit-image>=0.16.1->albumentations) (9.0.1)\n",
      "Requirement already satisfied: imageio>=2.27 in /home/denis/.local/lib/python3.10/site-packages (from scikit-image>=0.16.1->albumentations) (2.32.0)\n",
      "Requirement already satisfied: tifffile>=2022.8.12 in /home/denis/.local/lib/python3.10/site-packages (from scikit-image>=0.16.1->albumentations) (2023.9.26)\n",
      "Requirement already satisfied: packaging>=21 in /home/denis/.local/lib/python3.10/site-packages (from scikit-image>=0.16.1->albumentations) (23.2)\n",
      "Requirement already satisfied: lazy_loader>=0.3 in /home/denis/.local/lib/python3.10/site-packages (from scikit-image>=0.16.1->albumentations) (0.3)\n",
      "Requirement already satisfied: joblib>=1.1.1 in /home/denis/.local/lib/python3.10/site-packages (from scikit-learn>=0.19.1->qudida>=0.0.4->albumentations) (1.3.2)\n",
      "Requirement already satisfied: threadpoolctl>=2.0.0 in /home/denis/.local/lib/python3.10/site-packages (from scikit-learn>=0.19.1->qudida>=0.0.4->albumentations) (3.2.0)\n",
      "Downloading albumentations-1.3.1-py3-none-any.whl (125 kB)\n",
      "\u001b[2K   \u001b[90m━━━━━━━━━━━━━━━━━━━━━━━━━━━━━━━━━━━━━━━\u001b[0m \u001b[32m125.7/125.7 kB\u001b[0m \u001b[31m732.9 kB/s\u001b[0m eta \u001b[36m0:00:00\u001b[0ma \u001b[36m0:00:01\u001b[0m\n",
      "\u001b[?25hDownloading opencv_python_headless-4.8.1.78-cp37-abi3-manylinux_2_17_x86_64.manylinux2014_x86_64.whl (49.1 MB)\n",
      "\u001b[2K   \u001b[90m━━━━━━━━━━━━━━━━━━━━━━━━━━━━━━━━━━━━━━━━\u001b[0m \u001b[32m49.1/49.1 MB\u001b[0m \u001b[31m237.6 kB/s\u001b[0m eta \u001b[36m0:00:00\u001b[0m00:01\u001b[0m00:06\u001b[0m\n",
      "\u001b[?25hDownloading networkx-3.2.1-py3-none-any.whl (1.6 MB)\n",
      "\u001b[2K   \u001b[90m━━━━━━━━━━━━━━━━━━━━━━━━━━━━━━━━━━━━━━━━\u001b[0m \u001b[32m1.6/1.6 MB\u001b[0m \u001b[31m207.6 kB/s\u001b[0m eta \u001b[36m0:00:00\u001b[0m00:01\u001b[0m00:01\u001b[0m\n",
      "\u001b[?25h"
     ]
    }
   ],
   "source": [
    "!pip install albumentations"
   ]
  },
  {
   "cell_type": "markdown",
   "metadata": {},
   "source": [
    "Augmentation functions"
   ]
  },
  {
   "cell_type": "code",
   "execution_count": 141,
   "metadata": {},
   "outputs": [
    {
     "name": "stdout",
     "output_type": "stream",
     "text": [
      "zsh:1: command not found: pip\n"
     ]
    }
   ],
   "source": [
    "!pip install imgaug"
   ]
  },
  {
   "cell_type": "code",
   "execution_count": 173,
   "metadata": {},
   "outputs": [],
   "source": [
    "import random\n",
    "import albumentations as A\n",
    "\n",
    "\n",
    "def rotate_image(image, mask, rotate_angle):\n",
    "  transform = A.ShiftScaleRotate(border_mode=cv2.BORDER_CONSTANT, \n",
    "                                scale_limit=0.3,\n",
    "                                rotate_limit=rotate_angle,\n",
    "                                p=0.7)\n",
    "  augmented_image = transform(\n",
    "    image=np.array(image),\n",
    "    mask=np.array(mask),\n",
    "  )\n",
    "  \n",
    "  rotated_image = augmented_image['image']\n",
    "  rotated_mask = augmented_image['mask']\n",
    "  return Image.fromarray(rotated_image), Image.fromarray(rotated_mask)\n",
    "\n",
    "\n",
    "def transform_image(image):\n",
    "  transform = A.Compose([\n",
    "      A.HorizontalFlip(p=0.5),\n",
    "      # A.ShiftScaleRotate(border_mode=cv2.BORDER_CONSTANT, \n",
    "      #                     scale_limit=0.3,\n",
    "      #                     rotate_limit=(-180, 180),\n",
    "      #                     p=0.7),\n",
    "      # A.GridDistortion(p=0.5),\n",
    "      A.OpticalDistortion(p=0.5),\n",
    "      A.GaussianBlur(p=0.5),\n",
    "      A.Equalize(p=0.5),\n",
    "      A.RandomBrightnessContrast(p=0.5),\n",
    "      A.RandomGamma(p=0.5)\n",
    "  ])\n",
    "  random.seed(42)\n",
    "  transformed = transform(image=np.array(image))\n",
    "  return Image.fromarray(transformed['image'])"
   ]
  },
  {
   "cell_type": "code",
   "execution_count": 175,
   "metadata": {},
   "outputs": [],
   "source": [
    "# logic for dividing the image into fragments\n",
    "def split_image(image_id: int, k: int = 2, save: bool = False):\n",
    "  \n",
    "  '''\n",
    "  Function that makes only fragments of images\n",
    "  '''\n",
    "  \n",
    "  base_image = Image.open(image_path(image_id))\n",
    "  base_image_width, base_image_height = base_image.size\n",
    "  width = base_image_width // k\n",
    "  height = base_image_height // k\n",
    "  \n",
    "  crops = []\n",
    "  image_index = 0\n",
    "  \n",
    "  for i in range(1, k+1):\n",
    "    for j in range(1, k+1):\n",
    "      im_crop = base_image.crop(\n",
    "        (width * (i - 1), height * (j - 1), width * i, height * j)\n",
    "      )\n",
    "      \n",
    "      if save:\n",
    "        _image_name = f'image_{image_id}_fragment_{image_index}_k_{k}.png'\n",
    "        im_crop.save(images_folder_path + _image_name, quality=95)\n",
    "      else:\n",
    "        crops.append(im_crop)\n",
    "        \n",
    "      image_index += 1\n",
    "  \n",
    "  return crops\n",
    "\n",
    "\n",
    "# logic for dividing the mask into fragments\n",
    "def split_mask(mask_id: int, k: int = 2, save: bool = False):\n",
    "  \n",
    "  '''\n",
    "  Function that makes only fragments of mask\n",
    "  '''\n",
    "  \n",
    "  base_mask = Image.open(mask_path(mask_id))\n",
    "  base_mask_width, base_mask_height = base_mask.size\n",
    "  width = base_mask_width // k\n",
    "  height = base_mask_height // k\n",
    "  \n",
    "  crops = []\n",
    "  mask_index = 0\n",
    "  \n",
    "  for i in range(1, k+1):\n",
    "    for j in range(1, k+1):\n",
    "      im_crop = base_mask.crop(\n",
    "        (width * (i - 1), height * (j - 1), width * i, height * j)\n",
    "      )\n",
    "      if save:\n",
    "        _mask_name = f'mask_{mask_id}_fragment_{mask_index}_k_{k}.png'\n",
    "        im_crop.save(masks_folder_path + _mask_name, quality=95)\n",
    "      else:\n",
    "        crops.append(im_crop)\n",
    "      \n",
    "      mask_index += 1\n",
    "  \n",
    "  return crops"
   ]
  },
  {
   "cell_type": "code",
   "execution_count": 223,
   "metadata": {},
   "outputs": [],
   "source": [
    "def get_fragments(image_id: int, rotation, k: int = 2):\n",
    "  \n",
    "  '''\n",
    "  Function for getting fragments from image and mask\n",
    "  Save in images_folder_path and masks_folder_path\n",
    "  '''\n",
    "  \n",
    "  base_image = Image.open(image_path(image_id))\n",
    "  base_mask = Image.open(mask_path(image_id))\n",
    "  base_image_width, base_image_height = base_image.size\n",
    "  width = base_image_width // k\n",
    "  height = base_image_height // k\n",
    "\n",
    "  index = 0\n",
    "  \n",
    "  for i in range(1, k+1):\n",
    "    for j in range(1, k+1):\n",
    "      image_crop = base_image.crop(\n",
    "        (width * (i - 1), height * (j - 1), width * i, height * j)\n",
    "      )\n",
    "      \n",
    "      mask_crop = base_mask.crop(\n",
    "        (width * (i - 1), height * (j - 1), width * i, height * j)\n",
    "      )\n",
    "      \n",
    "      _rotation = next(rotation)\n",
    "      \n",
    "      # rotations\n",
    "      image_crop, mask_crop = rotate_image(image_crop, mask_crop, _rotation)\n",
    "      \n",
    "      # transform image\n",
    "      image_crop = transform_image(image_crop)\n",
    "      \n",
    "      _image_name = f'image_{image_id}_fragment_{index}_k_{k}.png'\n",
    "      _mask_name = f'mask_{image_id}_fragment_{index}_k_{k}.png'\n",
    "      image_crop.save(images_folder_path + _image_name, quality=95)\n",
    "      mask_crop.save(masks_folder_path + _mask_name, quality=95)\n",
    "      \n",
    "      index += 1"
   ]
  },
  {
   "cell_type": "markdown",
   "metadata": {},
   "source": [
    "Сгенерируем датасет для 20 картинок с делением 1...10"
   ]
  },
  {
   "cell_type": "code",
   "execution_count": 220,
   "metadata": {},
   "outputs": [],
   "source": [
    "def generate_fragments(image_id: int, n_splits: int = 10):\n",
    "  \n",
    "  '''\n",
    "  Generate fragments\n",
    "  '''\n",
    "  \n",
    "  for k in range(1, n_splits + 1):\n",
    "    split_image(image_id, k)\n",
    "    split_mask(image_id, k)\n",
    "    \n",
    "\n",
    "\n",
    "def generate_fragments_transformed(image_id: int, n_splits: int = 10):\n",
    "  \n",
    "  '''\n",
    "  Generate fragments using augmentation transform\n",
    "  '''\n",
    "  \n",
    "  rotations = []\n",
    "  random.seed(42)\n",
    "  \n",
    "  for _ in range(n_splits**3):\n",
    "    rotations.append(random.randint(-180, 180))\n",
    "  \n",
    "  def get_rotation():\n",
    "    yield from rotations\n",
    "  \n",
    "  rotation_generator = get_rotation()\n",
    "  \n",
    "  for k in range(1, n_splits + 1):\n",
    "    get_fragments(image_id, rotation_generator, k)\n"
   ]
  },
  {
   "cell_type": "markdown",
   "metadata": {},
   "source": [
    "Сгенерируем фрагменты для картинки с индексом 001"
   ]
  },
  {
   "cell_type": "code",
   "execution_count": null,
   "metadata": {},
   "outputs": [],
   "source": [
    "N_SPLITS = 10\n",
    "\n",
    "generate_fragments_transformed(1, n_splits=N_SPLITS)"
   ]
  },
  {
   "cell_type": "code",
   "execution_count": 37,
   "metadata": {},
   "outputs": [
    {
     "data": {
      "text/plain": [
       "12"
      ]
     },
     "execution_count": 37,
     "metadata": {},
     "output_type": "execute_result"
    }
   ],
   "source": [
    "import multiprocessing\n",
    "from multiprocessing import Pool\n",
    "num_cores = multiprocessing.cpu_count()\n",
    "num_cores"
   ]
  },
  {
   "cell_type": "code",
   "execution_count": null,
   "metadata": {},
   "outputs": [],
   "source": [
    "# def process_image(arg):\n",
    "#     image_path, mask_path, i = arg\n",
    "#     x = Image.open(image_path)\n",
    "#     y = Image.open(mask_path)\n",
    "#     for j in range(2):\n",
    "#         transform = A.Compose([\n",
    "#             A.HorizontalFlip(p=0.5),\n",
    "#             A.ShiftScaleRotate(border_mode=cv2.BORDER_CONSTANT, \n",
    "#                                 scale_limit=0.3,\n",
    "#                                 rotate_limit=(10, 30),\n",
    "#                                 p=0.7),\n",
    "#             # A.GridDistortion(p=0.5),\n",
    "#             A.OpticalDistortion(p=0.5),\n",
    "#             A.GaussianBlur(p=0.5),\n",
    "#             A.Equalize(p=0.5),\n",
    "#             A.RandomBrightnessContrast(p=0.5),\n",
    "#             A.RandomGamma(p=0.5)\n",
    "#         ])\n",
    "#         transformed = transform(image=np.array(x), mask=np.array(y))\n",
    "\n",
    "#         image_trans = transformed['image']\n",
    "#         mask_trans = transformed['mask']\n",
    "#         x = Image.fromarray(image_trans)\n",
    "#         y = Image.fromarray(mask_trans)\n",
    "#         x.save(f'./input2/{i}v{j}.jpg')\n",
    "#         y.save(f'./Output2/{i}v{j}.png', 'PNG')\n",
    "\n",
    "# if __name__ == '__main__':\n",
    "#     img = sorted([str(os.path.join(dp, f)) for dp, dn, filenames in os.walk(X_path) for f in filenames if os.path.splitext(f)[1] == '.png' or os.path.splitext(f)[1] == '.jpg'])\n",
    "#     mask = sorted([str(os.path.join(dp, f)) for dp, dn, filenames in os.walk(Y_path) for f in filenames if os.path.splitext(f)[1] == '.png' or os.path.splitext(f)[1] == '.jpg'])\n",
    "#     args_list = [(image_path, mask_path, i) for i, (image_path, mask_path) in enumerate(zip(img, mask))]\n",
    "#     with Pool(processes=multiprocessing.cpu_count()) as pool:\n",
    "#         list(tqdm(pool.imap(process_image, args_list), total=len(args_list)))"
   ]
  }
 ],
 "metadata": {
  "kernelspec": {
   "display_name": "Python 3",
   "language": "python",
   "name": "python3"
  },
  "language_info": {
   "codemirror_mode": {
    "name": "ipython",
    "version": 3
   },
   "file_extension": ".py",
   "mimetype": "text/x-python",
   "name": "python",
   "nbconvert_exporter": "python",
   "pygments_lexer": "ipython3",
   "version": "3.10.12"
  }
 },
 "nbformat": 4,
 "nbformat_minor": 2
}
