{
 "cells": [
  {
   "cell_type": "code",
   "execution_count": 1,
   "metadata": {},
   "outputs": [],
   "source": [
    "import os\n",
    "import numpy as np\n",
    "import pandas as pd\n",
    "from PIL import Image\n",
    "import cv2"
   ]
  },
  {
   "cell_type": "code",
   "execution_count": 2,
   "metadata": {},
   "outputs": [],
   "source": [
    "BASE_IMAGE_DIR_PATH = './train/train/images/'\n",
    "BASE_MASKS_DIR_PATH = './train/train/masks/'\n",
    "\n",
    "images_folder_path = 'train_splitted/images/'\n",
    "masks_folder_path = 'train_splitted/masks/'\n"
   ]
  },
  {
   "cell_type": "code",
   "execution_count": 3,
   "metadata": {},
   "outputs": [],
   "source": [
    "def init_folder(path: str):\n",
    "  if not os.path.exists(path):\n",
    "      os.makedirs(path)\n",
    "\n",
    "\n",
    "# init folders for images and masks if does not exist\n",
    "init_folder(images_folder_path)\n",
    "init_folder(masks_folder_path)"
   ]
  },
  {
   "cell_type": "code",
   "execution_count": 4,
   "metadata": {},
   "outputs": [
    {
     "data": {
      "text/plain": [
       "21"
      ]
     },
     "execution_count": 4,
     "metadata": {},
     "output_type": "execute_result"
    }
   ],
   "source": [
    "def get_count_of_files_in_dir(dir_name):\n",
    "\tfiles = os.listdir(dir_name)\n",
    "\treturn len(files) - 1\n",
    "\n",
    "\n",
    "COUNT_OF_IMAGES = get_count_of_files_in_dir(BASE_IMAGE_DIR_PATH)\n",
    "COUNT_OF_IMAGES"
   ]
  },
  {
   "cell_type": "code",
   "execution_count": 5,
   "metadata": {},
   "outputs": [],
   "source": [
    "def add_lead_zeros(_id: int):\n",
    "  if 0 <= _id <= 9:\n",
    "    return '00' + str(_id)\n",
    "  elif 10 <= _id <= 99:\n",
    "    return '0' + str(_id)\n",
    "  else:\n",
    "    return str(_id)\n",
    "\n",
    "def image_name(_id: int):\n",
    "  return f'train_image_{add_lead_zeros(_id)}.png'\n",
    "\n",
    "def mask_name(_id: int):\n",
    "  return f'train_mask_{add_lead_zeros(_id)}.png'\n",
    "\n",
    "def image_path(_id: int):\n",
    "  return BASE_IMAGE_DIR_PATH + image_name(_id)\n",
    "\n",
    "def mask_path(_id: int):\n",
    "  return BASE_MASKS_DIR_PATH + mask_name(_id)"
   ]
  },
  {
   "cell_type": "markdown",
   "metadata": {},
   "source": [
    "Augmentation functions"
   ]
  },
  {
   "cell_type": "code",
   "execution_count": 6,
   "metadata": {},
   "outputs": [],
   "source": [
    "import random\n",
    "import albumentations as A\n",
    "\n",
    "\n",
    "def rotate_image(image, mask, rotate_angle):\n",
    "  transform = A.ShiftScaleRotate(border_mode=cv2.BORDER_CONSTANT, \n",
    "                                scale_limit=0.3,\n",
    "                                rotate_limit=rotate_angle,\n",
    "                                p=0.7)\n",
    "  augmented_image = transform(\n",
    "    image=np.array(image),\n",
    "    mask=np.array(mask),\n",
    "  )\n",
    "  \n",
    "  rotated_image = augmented_image['image']\n",
    "  rotated_mask = augmented_image['mask']\n",
    "  return Image.fromarray(rotated_image), Image.fromarray(rotated_mask)\n",
    "\n",
    "\n",
    "def transform_image(image):\n",
    "  \n",
    "  '''\n",
    "  Optical transforms\n",
    "  '''\n",
    "  \n",
    "  transform = A.Compose([\n",
    "      A.OpticalDistortion(p=0.5),\n",
    "      A.GaussianBlur(p=0.5),\n",
    "      A.Equalize(p=0.5),\n",
    "      A.RandomBrightnessContrast(p=0.5),\n",
    "      A.RandomGamma(p=0.5)\n",
    "  ])\n",
    "  random.seed(42)\n",
    "  transformed = transform(image=np.array(image))\n",
    "  return Image.fromarray(transformed['image'])"
   ]
  },
  {
   "cell_type": "code",
   "execution_count": 7,
   "metadata": {},
   "outputs": [],
   "source": [
    "def get_augmented_images(image_id: int, rotation):\n",
    "  \n",
    "  base_image = Image.open(image_path(image_id))\n",
    "  base_mask = Image.open(mask_path(image_id))\n",
    "    \n",
    "  _rotation = next(rotation)\n",
    "  \n",
    "  # rotations\n",
    "  base_image, base_mask = rotate_image(base_image, base_mask, _rotation)\n",
    "  \n",
    "  # transform image\n",
    "  base_image = transform_image(base_image)\n",
    "  \n",
    "  _image_name = f'image_{image_id}.png'\n",
    "  _mask_name = f'mask_{image_id}.png'\n",
    "  path_image_name = images_folder_path + _image_name\n",
    "  path_mask_name = masks_folder_path + _mask_name\n",
    "  base_image.save(path_image_name, quality=95)\n",
    "  base_mask.save(path_mask_name, quality=95)\n",
    "\n",
    "  return path_image_name, path_mask_name"
   ]
  },
  {
   "cell_type": "markdown",
   "metadata": {},
   "source": [
    "Сгенерируем набор предобработанных картинок"
   ]
  },
  {
   "cell_type": "code",
   "execution_count": 8,
   "metadata": {},
   "outputs": [],
   "source": [
    "def generate_augmented_images(images_count: int):\n",
    "  \n",
    "  '''\n",
    "  Generate fragments using augmentation transform\n",
    "  '''\n",
    "  \n",
    "  augmented_images = []\n",
    "  rotations = []\n",
    "  random.seed(42)\n",
    "  \n",
    "  for _ in range(images_count):\n",
    "    rotations.append(random.randint(-180, 180))\n",
    "  \n",
    "  def get_rotation():\n",
    "    yield from rotations\n",
    "  \n",
    "  rotation_generator = get_rotation()\n",
    "  \n",
    "  for image_id in range(images_count):\n",
    "    augmented_images.append(get_augmented_images(image_id, rotation_generator))\n",
    "  \n",
    "  return augmented_images"
   ]
  },
  {
   "cell_type": "code",
   "execution_count": 9,
   "metadata": {},
   "outputs": [
    {
     "name": "stderr",
     "output_type": "stream",
     "text": [
      "/opt/homebrew/lib/python3.11/site-packages/PIL/Image.py:3182: DecompressionBombWarning: Image size (99969780 pixels) exceeds limit of 89478485 pixels, could be decompression bomb DOS attack.\n",
      "  warnings.warn(\n",
      "/opt/homebrew/lib/python3.11/site-packages/PIL/Image.py:3182: DecompressionBombWarning: Image size (108245178 pixels) exceeds limit of 89478485 pixels, could be decompression bomb DOS attack.\n",
      "  warnings.warn(\n"
     ]
    }
   ],
   "source": [
    "# generate\n",
    "final_df = pd.DataFrame(generate_augmented_images(COUNT_OF_IMAGES))\n",
    "\n",
    "# save\n",
    "final_df.to_csv('./metadata.prepr.csv', index=False)"
   ]
  },
  {
   "cell_type": "markdown",
   "metadata": {},
   "source": [
    "Измерим итоговую папку"
   ]
  },
  {
   "cell_type": "code",
   "execution_count": null,
   "metadata": {},
   "outputs": [],
   "source": [
    "import os\n",
    "from pathlib import Path\n",
    "\n",
    "#Вычисляет размер папки, количество файлов и количество итераций функции\n",
    "def folderSize(path):\n",
    "    fsize = 0\n",
    "    numfile = 0\n",
    "    iteration = 0\n",
    "    for file in Path(path).rglob('*'):\n",
    "        if (os.path.isfile(file)):\n",
    "            fsize += os.path.getsize(file)\n",
    "            numfile += 1\n",
    "        iteration += 1\n",
    "    return fsize, numfile, iteration\n",
    "  \n",
    "  \n",
    "folder = './train_splitted' # train fragments dir path\n",
    "\n",
    "print(\"Вычисление размера выбранной папки...\")\n",
    "size, numfile, iteration = folderSize(folder)\n",
    "print(f'Выбрана папка: {folder}')\n",
    "print(f'Найдено файлов: {numfile}')\n",
    "print(\"Размер папки:\")\n",
    "print(f'{size} Bytes')       \n",
    "print(f'{size/1048576:.2f} Mb')\n",
    "print(f'{size/1073741824:.2f} Gb')"
   ]
  },
  {
   "cell_type": "markdown",
   "metadata": {},
   "source": []
  }
 ],
 "metadata": {
  "kernelspec": {
   "display_name": "Python 3",
   "language": "python",
   "name": "python3"
  },
  "language_info": {
   "codemirror_mode": {
    "name": "ipython",
    "version": 3
   },
   "file_extension": ".py",
   "mimetype": "text/x-python",
   "name": "python",
   "nbconvert_exporter": "python",
   "pygments_lexer": "ipython3",
   "version": "3.11.6"
  }
 },
 "nbformat": 4,
 "nbformat_minor": 2
}
