{
 "cells": [
  {
   "cell_type": "code",
   "execution_count": 23,
   "metadata": {},
   "outputs": [],
   "source": [
    "import pandas as pd"
   ]
  },
  {
   "cell_type": "code",
   "execution_count": 24,
   "metadata": {},
   "outputs": [],
   "source": [
    "metadata = pd.read_csv('./metadata.csv')\n",
    "metadata_prepr = pd.read_csv('./metadata.prepr.csv')\n",
    "\n",
    "df = []"
   ]
  },
  {
   "cell_type": "code",
   "execution_count": 27,
   "metadata": {},
   "outputs": [],
   "source": [
    "\n",
    "for i in range(len(metadata)):\n",
    "  mtdt = metadata.loc[i]\n",
    "  image_id = mtdt['image_id']\n",
    "  split = mtdt['split']\n",
    "  sat_image_path = mtdt['sat_image_path']\n",
    "  mask_path = mtdt['mask_path']\n",
    "  \n",
    "  # mtdt = metadata_prepr.loc[i]\n",
    "  # image_path_new = mtdt['0']\n",
    "  # mask_path_new = mtdt['1']\n",
    "  \n",
    "  df.append([image_id, split, sat_image_path, mask_path])\n",
    "  \n",
    "\n",
    "# , image_path_new, mask_path_new\n",
    "\n",
    "\n",
    "for i in range(len(metadata_prepr)):\n",
    "  mtdt = metadata_prepr.loc[i]\n",
    "  image_id = mtdt['0']\n",
    "  image_path_new = mtdt['1']\n",
    "  mask_path_new = mtdt['2']\n",
    "  \n",
    "  df.append([image_id, 'train', image_path_new, mask_path_new])"
   ]
  },
  {
   "cell_type": "code",
   "execution_count": 29,
   "metadata": {},
   "outputs": [],
   "source": [
    "df = pd.DataFrame(df)\n",
    "_headers =  ['image_id', 'split', 'sat_image_path', 'mask_path']\n",
    "df.columns = _headers\n",
    "df.to_csv('./metadata.res.csv', index=False)"
   ]
  }
 ],
 "metadata": {
  "kernelspec": {
   "display_name": "Python 3",
   "language": "python",
   "name": "python3"
  },
  "language_info": {
   "codemirror_mode": {
    "name": "ipython",
    "version": 3
   },
   "file_extension": ".py",
   "mimetype": "text/x-python",
   "name": "python",
   "nbconvert_exporter": "python",
   "pygments_lexer": "ipython3",
   "version": "3.11.6"
  }
 },
 "nbformat": 4,
 "nbformat_minor": 2
}
