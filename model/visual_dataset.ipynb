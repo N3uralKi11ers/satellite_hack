{
 "cells": [
  {
   "cell_type": "code",
   "execution_count": null,
   "metadata": {},
   "outputs": [
    {
     "ename": "Access Denied",
     "evalue": "Spec c1.4 is not available for your community. Please contact your administrator or Support",
     "output_type": "error",
     "traceback": []
    }
   ],
   "source": [
    "from dataset import CVDataset\n",
    "\n",
    "from torch.cuda import is_available as cuda_is_available\n",
    "from tqdm import tqdm\n",
    "from torch import tensor\n",
    "import matplotlib.pyplot as plt"
   ]
  },
  {
   "cell_type": "code",
   "execution_count": null,
   "metadata": {},
   "outputs": [
    {
     "ename": "Access Denied",
     "evalue": "Spec c1.4 is not available for your community. Please contact your administrator or Support",
     "output_type": "error",
     "traceback": []
    }
   ],
   "source": [
    "data = CVDataset('/home/denis/code/satellite_hack/')"
   ]
  },
  {
   "cell_type": "code",
   "execution_count": 3,
   "metadata": {},
   "outputs": [
    {
     "ename": "",
     "evalue": "",
     "output_type": "error",
     "traceback": [
      "\u001b[1;31mThe Kernel crashed while executing code in the the current cell or a previous cell. Please review the code in the cell(s) to identify a possible cause of the failure. Click <a href='https://aka.ms/vscodeJupyterKernelCrash'>here</a> for more info. View Jupyter <a href='command:jupyter.viewOutput'>log</a> for further details."
     ]
    }
   ],
   "source": [
    "for i in range(len(data)):\n",
    "    index, images, output = data[i]\n",
    "    data.imshow(images, output, output, f'image_res/image{i}.jpg')"
   ]
  }
 ],
 "metadata": {
  "kernelspec": {
   "display_name": "DataSphere Kernel",
   "language": "python",
   "name": "python3"
  },
  "language_info": {
   "codemirror_mode": {
    "name": "ipython",
    "version": 3
   },
   "file_extension": ".py",
   "mimetype": "text/x-python",
   "name": "python",
   "nbconvert_exporter": "python",
   "pygments_lexer": "ipython3",
   "version": "3.7.7"
  }
 },
 "nbformat": 4,
 "nbformat_minor": 4
}
