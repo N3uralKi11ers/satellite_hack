{
 "cells": [
  {
   "cell_type": "code",
   "execution_count": 7,
   "id": "7b94544e-8559-4661-9dfe-5fb339c2e095",
   "metadata": {
    "execution": {
     "iopub.execute_input": "2023-11-25T10:26:16.736159Z",
     "iopub.status.busy": "2023-11-25T10:26:16.735202Z",
     "iopub.status.idle": "2023-11-25T10:26:17.828496Z",
     "shell.execute_reply": "2023-11-25T10:26:17.827583Z",
     "shell.execute_reply.started": "2023-11-25T10:26:16.736099Z"
    },
    "tags": []
   },
   "outputs": [
    {
     "name": "stderr",
     "output_type": "stream",
     "text": [
      "Downloading: \"https://download.pytorch.org/models/deeplabv3_resnet101_coco-586e9e4e.pth\" to /tmp/xdg_cache/torch/hub/checkpoints/deeplabv3_resnet101_coco-586e9e4e.pth\n",
      "100%|██████████| 233M/233M [00:03<00:00, 72.4MB/s] \n"
     ]
    }
   ],
   "source": [
    "from use_dataset import UseDataset\n",
    "from deeplabv3 import DeepLabV3\n",
    "from torch import no_grad, sigmoid\n",
    "from deeplabv3 import DeepLabV3\n",
    "from unet import UNet\n",
    "from unetplusplus import UNetPlusPlus\n",
    "from dataset import CVDataset\n",
    "from metrics import IoU_torch, f1_scores\n",
    "from inference_dataset import CVInferenceDataset\n",
    "\n",
    "from torch.utils.data import DataLoader\n",
    "from os import cpu_count\n",
    "from torch import no_grad\n",
    "from torch.cuda import is_available as cuda_is_available\n",
    "from torch.optim import Adam\n",
    "from torch.nn import CrossEntropyLoss\n",
    "from tqdm import tqdm\n",
    "import torch\n",
    "from torch import tensor, cuda, is_tensor, float32, long, from_numpy\n",
    "import matplotlib.pyplot as plt\n",
    "import gc\n",
    "from numpy import array\n",
    "import os\n",
    "import shutil\n",
    "import numpy as np\n",
    "from torch.utils.data import DataLoader\n",
    "from os import cpu_count\n",
    "from cv2 import imread, imwrite\n",
    "import torch\n",
    "\n",
    "data = UseDataset('/home/jupyter/datasphere/project/satellite_hack/', (1024,1024))\n",
    "\n",
    "model = DeepLabV3(2)\n",
    "model.load_state_dict(torch.load('/home/jupyter/datasphere/project/satellite_hack/model_deeplab.pth'))\n",
    "model = model.to('cuda')"
   ]
  },
  {
   "cell_type": "code",
   "execution_count": 10,
   "id": "bd525e84-13cf-4e7a-bf6e-800c58deba29",
   "metadata": {
    "execution": {
     "iopub.execute_input": "2023-11-25T11:15:34.688262Z",
     "iopub.status.busy": "2023-11-25T11:15:34.687221Z",
     "iopub.status.idle": "2023-11-25T11:16:33.646796Z",
     "shell.execute_reply": "2023-11-25T11:16:33.645848Z",
     "shell.execute_reply.started": "2023-11-25T11:15:34.688214Z"
    },
    "tags": []
   },
   "outputs": [],
   "source": [
    "device = 'cuda' if cuda_is_available() else 'cpu'\n",
    "batch_size = 3\n",
    "model.eval()\n",
    "matrix_shape = (1024,1024)\n",
    "with no_grad():\n",
    "    for k in range(len(data)):\n",
    "        image_shape, dat = data[k]\n",
    "        count_n = len(dat)\n",
    "        loader = DataLoader(dat, batch_size=batch_size, shuffle=False, num_workers=cpu_count(), pin_memory=False)\n",
    "        part_output = []\n",
    "        for x in loader:\n",
    "            images = x.to(device)\n",
    "            output = (model(images).softmax(1)[:, 0] > 0.7).detach().cpu().numpy()\n",
    "            for j in range(len(output)):\n",
    "                part_output.append(output[j])\n",
    "        part_output = np.array(part_output)\n",
    "\n",
    "        reconstructed_image = np.zeros(image_shape, dtype=np.uint8)\n",
    "        h, w = image_shape\n",
    "        for i in range(0, reconstructed_image.shape[0], matrix_shape[0]):\n",
    "            for j in range(0, reconstructed_image.shape[1], matrix_shape[1]):\n",
    "                image_part_tensor = part_output[0]\n",
    "                image_part = (image_part_tensor * 255).astype(np.uint8)\n",
    "                image_part = image_part[:matrix_shape[0], :matrix_shape[1]]\n",
    "                try:\n",
    "                    reconstructed_image[i:i+matrix_shape[0], j:j+matrix_shape[1]] = image_part\n",
    "                except:\n",
    "                    reconstructed_image[i:i+matrix_shape[0], j:j+matrix_shape[1]] = image_part[:h - i, :w - j]\n",
    "                try:\n",
    "                    part_output = part_output[1:]\n",
    "                except:\n",
    "                    pass\n",
    "\n",
    "        imwrite(f'../masks/test_mask_00{k}.png', reconstructed_image)"
   ]
  }
 ],
 "metadata": {
  "kernelspec": {
   "display_name": "DataSphere Kernel",
   "language": "python",
   "name": "python3"
  },
  "language_info": {
   "codemirror_mode": {
    "name": "ipython",
    "version": 3
   },
   "file_extension": ".py",
   "mimetype": "text/x-python",
   "name": "python",
   "nbconvert_exporter": "python",
   "pygments_lexer": "ipython3",
   "version": "3.7.7"
  }
 },
 "nbformat": 4,
 "nbformat_minor": 5
}
